{
 "cells": [
  {
   "cell_type": "code",
   "execution_count": 2,
   "id": "8d543b99",
   "metadata": {},
   "outputs": [
    {
     "name": "stdout",
     "output_type": "stream",
     "text": [
      "Enter no.of elements for list: 8\n",
      "123456789\n",
      "2345678\n",
      "3456\n",
      "456\n",
      "5\n",
      "0549\n",
      "1000\n",
      "9999\n",
      "The List is:  ['123456789', '2345678', '3456', '456', '5', '0549', '1000', '9999']\n",
      "The Four digits numbers from the list are : \n",
      "3456 \t0549 \t1000 \t9999 \t"
     ]
    }
   ],
   "source": [
    "###Write a pattern to display 4 digit numbers from list\n",
    "l1 = []\n",
    "n = int(input(\"Enter no.of elements for list: \"))\n",
    "for i in range(n):\n",
    "    a = input()\n",
    "    l1.append(a)\n",
    "print(\"The List is: \",l1)\n",
    "\n",
    "import re\n",
    "print(\"The Four digits numbers from the list are : \")\n",
    "for i in l1:\n",
    "    if re.findall('^[0-9]{4}$',i):\n",
    "        print(i, end =\" \\t\")"
   ]
  },
  {
   "cell_type": "code",
   "execution_count": 3,
   "id": "f80767a0",
   "metadata": {},
   "outputs": [
    {
     "name": "stdout",
     "output_type": "stream",
     "text": [
      "Enter no.of elements for list: 4\n",
      "88862715333\n",
      "9912891955\n",
      "8599901333\n",
      "9848355415\n",
      "The List is:  ['88862715333', '9912891955', '8599901333', '9848355415']\n",
      "The Validate phone numbers from the list are : \n",
      "88862715333\n",
      "9912891955\n",
      "8599901333\n",
      "9848355415\n"
     ]
    }
   ],
   "source": [
    "### Validate a phone number using patterns\n",
    "ph_list = []\n",
    "n = int(input(\"Enter no.of elements for list: \"))\n",
    "for i in range(n):\n",
    "    a = input()\n",
    "    ph_list.append(a)\n",
    "print(\"The List is: \",ph_list)\n",
    "\n",
    "import re\n",
    "print(\"The Validate phone numbers from the list are : \")\n",
    "for i in ph_list:\n",
    "    if re.findall('[6-9]{1}[0-9]{9}$',i):\n",
    "        print(i)"
   ]
  },
  {
   "cell_type": "code",
   "execution_count": null,
   "id": "1a0c53b4",
   "metadata": {},
   "outputs": [],
   "source": []
  }
 ],
 "metadata": {
  "kernelspec": {
   "display_name": "Python 3",
   "language": "python",
   "name": "python3"
  },
  "language_info": {
   "codemirror_mode": {
    "name": "ipython",
    "version": 3
   },
   "file_extension": ".py",
   "mimetype": "text/x-python",
   "name": "python",
   "nbconvert_exporter": "python",
   "pygments_lexer": "ipython3",
   "version": "3.8.8"
  }
 },
 "nbformat": 4,
 "nbformat_minor": 5
}
