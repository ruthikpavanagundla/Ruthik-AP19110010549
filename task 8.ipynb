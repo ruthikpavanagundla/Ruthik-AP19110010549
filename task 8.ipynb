{
 "cells": [
  {
   "cell_type": "code",
   "execution_count": 1,
   "id": "f2177489",
   "metadata": {},
   "outputs": [],
   "source": [
    "import emoji\n",
    "import camelcase\n",
    "import pyttsx3"
   ]
  },
  {
   "cell_type": "code",
   "execution_count": 2,
   "id": "881169d8",
   "metadata": {},
   "outputs": [],
   "source": [
    "def info(data):\n",
    "    x=camelcase.CamelCase()\n",
    "    if data==x.hump(data):\n",
    "        return emoji.emojize(\"The sentence is in camel case :thumbsup:\", use_aliases = True)\n",
    "    else:\n",
    "        spk = pyttsx3.init()\n",
    "        spk.say(\"Successfully converted your data into camelcase\")\n",
    "        spk.runAndWait()\n",
    "        return \"The sentence in camel case:\", x.hump(data)"
   ]
  },
  {
   "cell_type": "code",
   "execution_count": 5,
   "id": "733771d4",
   "metadata": {},
   "outputs": [
    {
     "name": "stdout",
     "output_type": "stream",
     "text": [
      "Enter your data: ruthik\n",
      "('The sentence in camel case:', 'Ruthik')\n"
     ]
    }
   ],
   "source": [
    "data = input(\"Enter your data: \")\n",
    "print(info(data))"
   ]
  },
  {
   "cell_type": "code",
   "execution_count": null,
   "id": "5357dcfa",
   "metadata": {},
   "outputs": [],
   "source": []
  }
 ],
 "metadata": {
  "kernelspec": {
   "display_name": "Python 3",
   "language": "python",
   "name": "python3"
  },
  "language_info": {
   "codemirror_mode": {
    "name": "ipython",
    "version": 3
   },
   "file_extension": ".py",
   "mimetype": "text/x-python",
   "name": "python",
   "nbconvert_exporter": "python",
   "pygments_lexer": "ipython3",
   "version": "3.8.8"
  }
 },
 "nbformat": 4,
 "nbformat_minor": 5
}
