{
 "cells": [
  {
   "cell_type": "code",
   "execution_count": 1,
   "id": "a2e12b24",
   "metadata": {},
   "outputs": [
    {
     "name": "stdout",
     "output_type": "stream",
     "text": [
      "Enter no.of Elements: 9\n",
      "8\n",
      "6\n",
      "4\n",
      "4\n",
      "3\n",
      "2\n",
      "6\n",
      "1\n",
      "9\n",
      "[8, 6, 4, 4, 3, 2, 6, 1, 9]\n",
      "Sum of all the items in a list:  43\n"
     ]
    }
   ],
   "source": [
    "# Write a Python program to sum all the items in a list.\n",
    "\n",
    "l = []\n",
    "n = int(input(\"Enter no.of Elements: \"))\n",
    "for i in range(0,n):\n",
    "    a = int(input())\n",
    "    l.append(a)\n",
    "print(l)\n",
    "sum = 0\n",
    "for j in range(0,len(l)):\n",
    "    sum = sum + l[j]\n",
    "print(\"Sum of all the items in a list: \",sum)"
   ]
  },
  {
   "cell_type": "code",
   "execution_count": 2,
   "id": "b9b61136",
   "metadata": {},
   "outputs": [
    {
     "name": "stdout",
     "output_type": "stream",
     "text": [
      "Enter no.of  character: 5\n",
      "my\n",
      "name\n",
      "is\n",
      "why\n",
      "your\n",
      "['my', 'name', 'is', 'why', 'your']\n"
     ]
    },
    {
     "data": {
      "text/plain": [
       "'my name is why your'"
      ]
     },
     "execution_count": 2,
     "metadata": {},
     "output_type": "execute_result"
    }
   ],
   "source": [
    "# Write a Python program to convert a list of characters into a string\n",
    "\n",
    "l = []\n",
    "n = int(input(\"Enter no.of  character: \"))\n",
    "for i in range(0,n):\n",
    "    elements = str(input())\n",
    "    l.append(elements)\n",
    "print(l)\n",
    "\" \".join(l)"
   ]
  },
  {
   "cell_type": "code",
   "execution_count": 3,
   "id": "ad131290",
   "metadata": {},
   "outputs": [
    {
     "name": "stdout",
     "output_type": "stream",
     "text": [
      "Enter no.of elements: 9\n",
      "1\n",
      "2\n",
      "3\n",
      "4\n",
      "5\n",
      "6\n",
      "7\n",
      "8\n",
      "9\n",
      "Even List [2, 4, 6, 8]\n",
      "Odd list [1, 3, 5, 7, 9]\n"
     ]
    }
   ],
   "source": [
    "# Program to put even and odd elements in a list into two different lists\n",
    "\n",
    "l = []\n",
    "l1 = []\n",
    "l2 = []\n",
    "n = int(input(\"Enter no.of elements: \"))\n",
    "for i in range(int(n)):\n",
    "    elements = int(input())\n",
    "    l.append(elements)\n",
    "    \n",
    "for i in l:\n",
    "    if i % 2 == 0:\n",
    "        l1.append(i)\n",
    "    else:\n",
    "        l2.append(i)\n",
    "print(\"Even List\",l1)\n",
    "print(\"Odd list\",l2)"
   ]
  },
  {
   "cell_type": "code",
   "execution_count": 4,
   "id": "286c03ea",
   "metadata": {},
   "outputs": [
    {
     "name": "stdout",
     "output_type": "stream",
     "text": [
      "Enter no.of Elements: 9\n",
      "1\n",
      "2\n",
      "3\n",
      "4\n",
      "5\n",
      "6\n",
      "7\n",
      "8\n",
      "9\n",
      "List Before [1, 2, 3, 4, 5, 6, 7, 8, 9]\n",
      "List after removing duplicates:  [1, 2, 3, 4, 5, 6, 7, 8, 9]\n"
     ]
    }
   ],
   "source": [
    "# Write a Python program to remove duplicates from a list\n",
    "\n",
    "l = []\n",
    "n = int(input(\"Enter no.of Elements: \"))\n",
    "for i in range(0,n):\n",
    "    a = int(input())\n",
    "    l.append(a)\n",
    "print(\"List Before\",l)\n",
    "l1 = []\n",
    "for j in l:\n",
    "    if j not in l1:\n",
    "        l1.append(j)\n",
    "\n",
    "print(\"List after removing duplicates: \",l1)"
   ]
  },
  {
   "cell_type": "code",
   "execution_count": 5,
   "id": "1893b12b",
   "metadata": {},
   "outputs": [
    {
     "name": "stdout",
     "output_type": "stream",
     "text": [
      "Empty\n"
     ]
    }
   ],
   "source": [
    "# Write a Python program to check a list is empty or not.\n",
    "arr = []\n",
    "print(\"Empty\" if len(arr) == 0 else \"Not empty\")"
   ]
  },
  {
   "cell_type": "code",
   "execution_count": 6,
   "id": "570c13c3",
   "metadata": {},
   "outputs": [
    {
     "name": "stdout",
     "output_type": "stream",
     "text": [
      "Enter no.of Elements: 1\n",
      "12\n",
      "[12]\n",
      "Not Empty\n"
     ]
    }
   ],
   "source": [
    "l = []\n",
    "n = int(input(\"Enter no.of Elements: \"))\n",
    "for i in range(0,n):\n",
    "    a = int(input())\n",
    "    l.append(a)\n",
    "print(l)\n",
    "if len(l)==0:\n",
    "    print(\"Empty\")\n",
    "else:\n",
    "    print(\"Not Empty\")\n",
    "    "
   ]
  },
  {
   "cell_type": "code",
   "execution_count": 2,
   "id": "6e49df73",
   "metadata": {},
   "outputs": [
    {
     "name": "stdout",
     "output_type": "stream",
     "text": [
      "Enter no.of Elements: 8\n",
      "1\n",
      "2\n",
      "2\n",
      "2\n",
      "3\n",
      "4\n",
      "5\n",
      "6\n",
      "Before Removing elements:  [1, 2, 2, 2, 3, 4, 5, 6]\n",
      "After removing 0th,4th and 5th element:  [2, 2, 2, 3, 5]\n"
     ]
    }
   ],
   "source": [
    "# Write a Python program to print a specified list after removing the 0th, 4th and 5th elements.\n",
    "\n",
    "l = []\n",
    "n = int(input(\"Enter no.of Elements: \"))\n",
    "for i in range(0,n):\n",
    "    a = int(input())\n",
    "    l.append(a)\n",
    "print(\"Before Removing elements: \",l)\n",
    "del l[0],l[4],l[5]\n",
    "print(\"After removing 0th,4th and 5th element: \",l)"
   ]
  },
  {
   "cell_type": "markdown",
   "id": "4eccf4de",
   "metadata": {},
   "source": [
    "def common(l1,l2):\n",
    "    flag = False\n",
    "    for k in l1:\n",
    "        if (k in l2):\n",
    "            flag = True\n",
    "        else:\n",
    "            pass\n",
    "    return flag\n",
    "\n",
    "l1 = []\n",
    "l2 = []\n",
    "n1 = int(input(\"Enter no.of elements for list1: \"))\n",
    "for i in range(0,n1):\n",
    "    a = str(input())\n",
    "    l1.append(a)\n",
    "print(\"The entered list1 is: \",l1)\n",
    "n2 = int(input(\"Enter no.of elements for list2: \"))\n",
    "for j in range(0,n2):\n",
    "    b = str(input())\n",
    "    l2.append(b)\n",
    "print(\"The entered list2 is: \",l2)\n",
    "result = common(l1,l2)\n",
    "print(result)"
   ]
  },
  {
   "cell_type": "code",
   "execution_count": 3,
   "id": "adfe80a7",
   "metadata": {},
   "outputs": [
    {
     "name": "stdout",
     "output_type": "stream",
     "text": [
      "Enter no.of elements for list1: 4\n",
      "billa\n",
      "jadda\n",
      "kgh\n",
      "parneeth\n",
      "The entered list1 is:  ['billa', 'jadda', 'kgh', 'parneeth']\n",
      "Enter no.of elements for list2: 4\n",
      "vamsi\n",
      "narsi\n",
      "dc\n",
      "uha\n",
      "The entered list2 is:  ['vamsi', 'narsi', 'dc', 'uha']\n",
      "False\n"
     ]
    }
   ],
   "source": [
    "def common(l1,l2):\n",
    "    flag = False\n",
    "    for k in l1:\n",
    "        if (k in l2):\n",
    "            flag = True\n",
    "        else:\n",
    "            pass\n",
    "    return flag\n",
    "\n",
    "l1 = []\n",
    "l2 = []\n",
    "n1 = int(input(\"Enter no.of elements for list1: \"))\n",
    "for i in range(0,n1):\n",
    "    a = str(input())\n",
    "    l1.append(a)\n",
    "print(\"The entered list1 is: \",l1)\n",
    "n2 = int(input(\"Enter no.of elements for list2: \"))\n",
    "for j in range(0,n2):\n",
    "    b = str(input())\n",
    "    l2.append(b)\n",
    "print(\"The entered list2 is: \",l2)\n",
    "result = common(l1,l2)\n",
    "print(result)"
   ]
  },
  {
   "cell_type": "code",
   "execution_count": 4,
   "id": "70b15cc5",
   "metadata": {},
   "outputs": [
    {
     "name": "stdout",
     "output_type": "stream",
     "text": [
      "Enter no.of elements for list1: 6\n",
      "1\n",
      "2\n",
      "3\n",
      "4\n",
      "5\n",
      "6\n",
      "The entered list1 is:  ['1', '2', '3', '4', '5', '6']\n",
      "Enter no.of elements for list2: 6\n",
      "0\n",
      "1\n",
      "2\n",
      "3\n",
      "4\n",
      "5\n",
      "The entered list2 is:  ['0', '1', '2', '3', '4', '5']\n",
      "True\n",
      "The common elements are:  ['1', '2', '3', '4', '5']\n"
     ]
    }
   ],
   "source": [
    "l = []\n",
    "def common(l1,l2):\n",
    "    flag = False\n",
    "    for k in l1:\n",
    "        if (k in l2):\n",
    "            l.append(k)\n",
    "            flag = True\n",
    "        else:\n",
    "            pass\n",
    "    return flag\n",
    "\n",
    "\n",
    "l1 = []\n",
    "l2 = []\n",
    "n1 = int(input(\"Enter no.of elements for list1: \"))\n",
    "for i in range(0,n1):\n",
    "    a = str(input())\n",
    "    l1.append(a)\n",
    "print(\"The entered list1 is: \",l1)\n",
    "n2 = int(input(\"Enter no.of elements for list2: \"))\n",
    "for j in range(0,n2):\n",
    "    b = str(input())\n",
    "    l2.append(b)\n",
    "print(\"The entered list2 is: \",l2)\n",
    "result = common(l1,l2)\n",
    "print(result)\n",
    "print(\"The common elements are: \",l)"
   ]
  },
  {
   "cell_type": "code",
   "execution_count": null,
   "id": "e7440fa4",
   "metadata": {},
   "outputs": [],
   "source": []
  }
 ],
 "metadata": {
  "kernelspec": {
   "display_name": "Python 3",
   "language": "python",
   "name": "python3"
  },
  "language_info": {
   "codemirror_mode": {
    "name": "ipython",
    "version": 3
   },
   "file_extension": ".py",
   "mimetype": "text/x-python",
   "name": "python",
   "nbconvert_exporter": "python",
   "pygments_lexer": "ipython3",
   "version": "3.8.8"
  }
 },
 "nbformat": 4,
 "nbformat_minor": 5
}
