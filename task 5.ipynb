{
 "cells": [
  {
   "cell_type": "code",
   "execution_count": 1,
   "id": "60f13ea2",
   "metadata": {},
   "outputs": [
    {
     "name": "stdout",
     "output_type": "stream",
     "text": [
      "{1: 1, 2: 4, 3: 9, 4: 16, 5: 25, 6: 36, 7: 49, 8: 64, 9: 81, 10: 100, 11: 121, 12: 144, 13: 169, 14: 196, 15: 225} "
     ]
    }
   ],
   "source": [
    "d = {}\n",
    "for i in range(1,16):\n",
    "    d[i] = i ** 2\n",
    "    \n",
    "print(d, end =\" \")"
   ]
  },
  {
   "cell_type": "code",
   "execution_count": 2,
   "id": "f1debe94",
   "metadata": {},
   "outputs": [
    {
     "name": "stdout",
     "output_type": "stream",
     "text": [
      "Enter no.of elements for list: 5\n",
      "1\n",
      "3\n",
      "5\n",
      "7\n",
      "9\n",
      "The entered keys are:  ['1', '3', '5', '7', '9']\n",
      "billa\n",
      "jadda\n",
      "kgh\n",
      "parneeth\n",
      "vamsi\n",
      "The entered values are:  ['billa', 'jadda', 'kgh', 'parneeth', 'vamsi']\n",
      "The Dictionary is:  {'1': 'billa', '3': 'jadda', '5': 'kgh', '7': 'parneeth', '9': 'vamsi'}\n"
     ]
    }
   ],
   "source": [
    "l1 = []\n",
    "l2 = []\n",
    "n = int(input(\"Enter no.of elements for list: \"))\n",
    "for i in range(0,n):\n",
    "    a = str(input())\n",
    "    l1.append(a)\n",
    "print(\"The entered keys are: \",l1)\n",
    "for j in range(0,n):\n",
    "    b = str(input())\n",
    "    l2.append(b)\n",
    "print(\"The entered values are: \",l2)\n",
    "\n",
    "print(\"The Dictionary is: \",{l1[i]:l2[i] for i in range(n)})"
   ]
  },
  {
   "cell_type": "code",
   "execution_count": 3,
   "id": "1979adae",
   "metadata": {},
   "outputs": [
    {
     "name": "stdout",
     "output_type": "stream",
     "text": [
      "{'n1': [1, 2, 3], 'n2': [1, 2, 5], 'n3': [2, 3, 4]}\n"
     ]
    }
   ],
   "source": [
    "dict = {'n1': [2, 3, 1], 'n2': [5, 1, 2], 'n3': [3, 2, 4]}\n",
    "print({k:sorted(v) for k,v in dict.items()})"
   ]
  },
  {
   "cell_type": "code",
   "execution_count": null,
   "id": "683aa047",
   "metadata": {},
   "outputs": [],
   "source": []
  }
 ],
 "metadata": {
  "kernelspec": {
   "display_name": "Python 3",
   "language": "python",
   "name": "python3"
  },
  "language_info": {
   "codemirror_mode": {
    "name": "ipython",
    "version": 3
   },
   "file_extension": ".py",
   "mimetype": "text/x-python",
   "name": "python",
   "nbconvert_exporter": "python",
   "pygments_lexer": "ipython3",
   "version": "3.8.8"
  }
 },
 "nbformat": 4,
 "nbformat_minor": 5
}
