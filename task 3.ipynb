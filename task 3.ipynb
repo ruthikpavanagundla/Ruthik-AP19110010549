{
 "cells": [
  {
   "cell_type": "code",
   "execution_count": 1,
   "id": "d4b576b5",
   "metadata": {},
   "outputs": [
    {
     "name": "stdout",
     "output_type": "stream",
     "text": [
      "Enter the string->Ruthik\n",
      "th\n"
     ]
    }
   ],
   "source": [
    "#if string is even print the 2middle letters of the string & if the string is odd print the middle most element in the list\n",
    "\n",
    "a=str(input(\"Enter the string->\"))\n",
    "if(len(a)%2==0):\n",
    "    print(a[(len(a)-1)//2:(len(a)+2)//2])\n",
    "else:\n",
    "    print(a[len(a)//2])"
   ]
  },
  {
   "cell_type": "code",
   "execution_count": 2,
   "id": "49a4152f",
   "metadata": {},
   "outputs": [
    {
     "name": "stdout",
     "output_type": "stream",
     "text": [
      "Enter The String: Ruthik\n",
      "The Entered string is :  Ruthik\n",
      "The Length of string is:  6 and it has Even no.of characters \n",
      "The middle characters of string are:  t,h\n"
     ]
    }
   ],
   "source": [
    "n = input(\"Enter The String: \")\n",
    "print(\"The Entered string is : \" , n)\n",
    "if len(n)%2 == 0 :\n",
    "    print(\"The Length of string is: \",len(n),\"and it has Even no.of characters \")\n",
    "    print(\"The middle characters of string are: \", (n[len(n)//2 - 1]) + \",\"+ (n[len(n)//2]) )\n",
    "else:\n",
    "    print(\"The Length of string is: \",len(n),\"and it has Odd no.of characters \")\n",
    "    print(\"The middle characters of string are: \" , n[len(n)//2] )"
   ]
  },
  {
   "cell_type": "code",
   "execution_count": null,
   "id": "06e4a5a1",
   "metadata": {},
   "outputs": [],
   "source": []
  }
 ],
 "metadata": {
  "kernelspec": {
   "display_name": "Python 3",
   "language": "python",
   "name": "python3"
  },
  "language_info": {
   "codemirror_mode": {
    "name": "ipython",
    "version": 3
   },
   "file_extension": ".py",
   "mimetype": "text/x-python",
   "name": "python",
   "nbconvert_exporter": "python",
   "pygments_lexer": "ipython3",
   "version": "3.8.8"
  }
 },
 "nbformat": 4,
 "nbformat_minor": 5
}
