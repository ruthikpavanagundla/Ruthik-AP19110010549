{
 "cells": [
  {
   "cell_type": "code",
   "execution_count": 1,
   "id": "27b86459",
   "metadata": {},
   "outputs": [],
   "source": [
    "f = open(\"Task10_1st.txt\",'w')\n",
    "f.write(\" first line. \\n\")\n",
    "f.write(\" Second line. \\n\")\n",
    "f.write(\" Third line. \\n\")\n",
    "f.write(\" Fourth line. \\n\")\n",
    "f.write(\" Fifth line. \\n\")\n",
    "f.write(\" Sixth line. \\n\")\n",
    "f.write(\" Seventh line. \\n\")\n",
    "f.write(\" Eight line. \\n\")\n",
    "f.write(\" Nineth line. \\n\")\n",
    "f.write(\" Tenth line. \\n\")\n",
    "f.close()\n"
   ]
  },
  {
   "cell_type": "code",
   "execution_count": 2,
   "id": "6428ce80",
   "metadata": {},
   "outputs": [
    {
     "data": {
      "text/plain": [
       "' first line. \\n Second line. \\n Third line. \\n Fourth line. \\n Fifth line. \\n Sixth line. \\n Seventh line. \\n Eight line. \\n Nineth line. \\n Tenth line. \\n'"
      ]
     },
     "execution_count": 2,
     "metadata": {},
     "output_type": "execute_result"
    }
   ],
   "source": [
    "f = open(\"Task10_1st.txt\",'r')\n",
    "f.read()"
   ]
  },
  {
   "cell_type": "code",
   "execution_count": 3,
   "id": "2e9421e6",
   "metadata": {},
   "outputs": [
    {
     "name": "stdout",
     "output_type": "stream",
     "text": [
      " Sixth line. \n",
      "\n",
      " Seventh line. \n",
      "\n",
      " Eight line. \n",
      "\n",
      " Nineth line. \n",
      "\n",
      " Tenth line. \n",
      "\n"
     ]
    }
   ],
   "source": [
    "f = open(\"Task10_1st.txt\",'r')\n",
    "for i in (f.readlines()[-5:]):\n",
    "    print(i)"
   ]
  },
  {
   "cell_type": "code",
   "execution_count": 4,
   "id": "a305f850",
   "metadata": {},
   "outputs": [],
   "source": [
    "f.close()\n"
   ]
  },
  {
   "cell_type": "code",
   "execution_count": 5,
   "id": "6198dd79",
   "metadata": {},
   "outputs": [
    {
     "name": "stdout",
     "output_type": "stream",
     "text": [
      "one \n",
      "Two \n",
      "Three \n",
      "Four \n",
      "\n"
     ]
    }
   ],
   "source": [
    "f1 = open('Task10_2nd.txt','w')\n",
    "f1.write(\"one \\n\")\n",
    "f1.write(\"Two \\n\")\n",
    "f1.write(\"Three \\n\")\n",
    "f1.write(\"Four \\n\")\n",
    "f1.close()\n",
    "\n",
    "f1 = open('Task10_2nd.txt')\n",
    "print(f1.read())\n",
    "f1.close()"
   ]
  },
  {
   "cell_type": "code",
   "execution_count": 6,
   "id": "619b5b2d",
   "metadata": {},
   "outputs": [
    {
     "name": "stdout",
     "output_type": "stream",
     "text": [
      "one \n",
      "Two \n",
      "Three \n",
      "Four \n",
      "\n"
     ]
    }
   ],
   "source": [
    "f1 = open(\"Task10_2nd.txt\",'r')\n",
    "print(f1.read())\n",
    "f1.close()"
   ]
  },
  {
   "cell_type": "code",
   "execution_count": 8,
   "id": "4076106b",
   "metadata": {},
   "outputs": [
    {
     "name": "stdout",
     "output_type": "stream",
     "text": [
      "Hello...!!!   \n",
      "This is P.Ruthik venkat  \n",
      "\n"
     ]
    }
   ],
   "source": [
    "import re\n",
    "f = open('Task10_3rd.txt','w')\n",
    "f.write(\"Hello...!!!   \\n\")\n",
    "f.write(\"This is P.Ruthik venkat  \\n\")\n",
    "f.close()\n",
    "\n",
    "f = open('Task10_3rd.txt')\n",
    "print(f.read())"
   ]
  },
  {
   "cell_type": "code",
   "execution_count": 9,
   "id": "7af813c4",
   "metadata": {},
   "outputs": [
    {
     "data": {
      "text/plain": [
       "<function TextIOWrapper.close()>"
      ]
     },
     "execution_count": 9,
     "metadata": {},
     "output_type": "execute_result"
    }
   ],
   "source": [
    "f.close"
   ]
  },
  {
   "cell_type": "code",
   "execution_count": null,
   "id": "23b0d113",
   "metadata": {},
   "outputs": [],
   "source": []
  }
 ],
 "metadata": {
  "kernelspec": {
   "display_name": "Python 3",
   "language": "python",
   "name": "python3"
  },
  "language_info": {
   "codemirror_mode": {
    "name": "ipython",
    "version": 3
   },
   "file_extension": ".py",
   "mimetype": "text/x-python",
   "name": "python",
   "nbconvert_exporter": "python",
   "pygments_lexer": "ipython3",
   "version": "3.8.8"
  }
 },
 "nbformat": 4,
 "nbformat_minor": 5
}
