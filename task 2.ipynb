{
 "cells": [
  {
   "cell_type": "code",
   "execution_count": 1,
   "id": "b9fd8bed",
   "metadata": {},
   "outputs": [
    {
     "name": "stdout",
     "output_type": "stream",
     "text": [
      "Enter your number: \n",
      "AP19110010549\n",
      "The last Five digits of Roll number is  10549\n",
      "CSE dept\n"
     ]
    }
   ],
   "source": [
    "string=input(\"Enter your number: \\n\")\n",
    "x = string[-5:]\n",
    "print(\"The last Five digits of Roll number is \",x)\n",
    "if x.startswith(\"10\"):\n",
    "           print(\"CSE dept\")\n",
    "elif x.startswith(\"11\"):\n",
    "            print(\"IT dept\")\n",
    "elif x.startswith(\"21\"):\n",
    "           print(\"ECE dept\")\n",
    "else:\n",
    "           print(\"Not a SRM Student\")"
   ]
  },
  {
   "cell_type": "code",
   "execution_count": 2,
   "id": "9f51729a",
   "metadata": {},
   "outputs": [
    {
     "name": "stdout",
     "output_type": "stream",
     "text": [
      "1804\t 1808\t 1812\t 1816\t 1820\t 1824\t 1828\t 1832\t 1836\t 1840\t 1844\t 1848\t 1852\t 1856\t 1860\t 1864\t 1868\t 1872\t 1876\t 1880\t 1884\t 1888\t 1892\t 1896\t 1904\t 1908\t 1912\t 1916\t 1920\t 1924\t 1928\t 1932\t 1936\t 1940\t 1944\t 1948\t 1952\t 1956\t 1960\t 1964\t 1968\t 1972\t 1976\t 1980\t 1984\t 1988\t 1992\t 1996\t 2000\t 2004\t 2008\t 2012\t 2016\t 2020\t "
     ]
    }
   ],
   "source": [
    "for year in range(1800,2021):\n",
    "    if(year%4==0 and year%100!=0)or(year%400==0):\n",
    "        print(year, end='\\t ')"
   ]
  },
  {
   "cell_type": "code",
   "execution_count": null,
   "id": "512c0836",
   "metadata": {},
   "outputs": [],
   "source": []
  }
 ],
 "metadata": {
  "kernelspec": {
   "display_name": "Python 3",
   "language": "python",
   "name": "python3"
  },
  "language_info": {
   "codemirror_mode": {
    "name": "ipython",
    "version": 3
   },
   "file_extension": ".py",
   "mimetype": "text/x-python",
   "name": "python",
   "nbconvert_exporter": "python",
   "pygments_lexer": "ipython3",
   "version": "3.8.8"
  }
 },
 "nbformat": 4,
 "nbformat_minor": 5
}
