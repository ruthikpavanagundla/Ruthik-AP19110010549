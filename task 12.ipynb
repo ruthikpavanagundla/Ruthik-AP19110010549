{
 "cells": [
  {
   "cell_type": "code",
   "execution_count": 1,
   "id": "13461094",
   "metadata": {},
   "outputs": [
    {
     "name": "stdout",
     "output_type": "stream",
     "text": [
      "[1 2 3 4 5]\n",
      "int32\n"
     ]
    }
   ],
   "source": [
    "# Creating array with integer in numpy\n",
    "\n",
    "import numpy as np\n",
    "a = np.array([1,2,3,4,5])\n",
    "print(a)\n",
    "print(a.dtype)"
   ]
  },
  {
   "cell_type": "code",
   "execution_count": 2,
   "id": "a815ad73",
   "metadata": {},
   "outputs": [
    {
     "name": "stdout",
     "output_type": "stream",
     "text": [
      "[-1  2  3 -4  5]\n",
      "int32\n"
     ]
    }
   ],
   "source": [
    "import numpy as np\n",
    "a = np.array([-1,2,3,-4,5],dtype = 'intc')  ## int\n",
    "print(a)\n",
    "print(a.dtype)"
   ]
  },
  {
   "cell_type": "code",
   "execution_count": 3,
   "id": "af5d3585",
   "metadata": {},
   "outputs": [
    {
     "name": "stdout",
     "output_type": "stream",
     "text": [
      "[1 2 3 4 5]\n",
      "int32\n"
     ]
    }
   ],
   "source": [
    "import numpy as np\n",
    "a = np.array([1,2,3,4,5],dtype = 'int_')  ## long\n",
    "print(a)\n",
    "print(a.dtype)"
   ]
  },
  {
   "cell_type": "code",
   "execution_count": 4,
   "id": "c39d6900",
   "metadata": {},
   "outputs": [
    {
     "name": "stdout",
     "output_type": "stream",
     "text": [
      "[-1  2  3  4  5]\n",
      "int64\n"
     ]
    }
   ],
   "source": [
    "import numpy as np\n",
    "a = np.array([-1,2,3,4,5],dtype = 'longlong')\n",
    "print(a)\n",
    "print(a.dtype)"
   ]
  },
  {
   "cell_type": "markdown",
   "id": "9384993e",
   "metadata": {},
   "source": [
    "BOOLEAN DATATYPE"
   ]
  },
  {
   "cell_type": "code",
   "execution_count": 5,
   "id": "18245961",
   "metadata": {},
   "outputs": [
    {
     "name": "stdout",
     "output_type": "stream",
     "text": [
      "[False  True  True  True  True  True]\n",
      "bool\n"
     ]
    }
   ],
   "source": [
    "# Creating array with boolean in numpy\n",
    "import numpy as np\n",
    "a = np.array([0,1,2,3,4,5],dtype = '?')\n",
    "print(a)\n",
    "print(a.dtype)"
   ]
  },
  {
   "cell_type": "code",
   "execution_count": 6,
   "id": "b680086b",
   "metadata": {},
   "outputs": [
    {
     "name": "stdout",
     "output_type": "stream",
     "text": [
      "[ True  True  True  True]\n",
      "bool\n"
     ]
    }
   ],
   "source": [
    "import numpy as np\n",
    "a = np.array([1,2,3,4], dtype='bool_')\n",
    "print(a)\n",
    "print(a.dtype)"
   ]
  },
  {
   "cell_type": "markdown",
   "id": "fa5b5e17",
   "metadata": {},
   "source": [
    "Unsigned Datatype"
   ]
  },
  {
   "cell_type": "code",
   "execution_count": 7,
   "id": "f2ae2403",
   "metadata": {},
   "outputs": [
    {
     "name": "stdout",
     "output_type": "stream",
     "text": [
      "[         0 4294967295          2 4294967293          4          5]\n",
      "uint32\n"
     ]
    }
   ],
   "source": [
    "# Creating array with unsigned integer in numpy\n",
    "\n",
    "import numpy as np\n",
    "a = np.array([0,-1,2,-3,4,5],dtype = 'uint')   ## unsigned long\n",
    "print(a)\n",
    "print(a.dtype)"
   ]
  },
  {
   "cell_type": "code",
   "execution_count": 8,
   "id": "70f1c3b5",
   "metadata": {},
   "outputs": [
    {
     "name": "stdout",
     "output_type": "stream",
     "text": [
      "[4294967295          2          3 4294967292          5]\n",
      "uint32\n"
     ]
    }
   ],
   "source": [
    "import numpy as np\n",
    "a = np.array([-1,2,3,-4,5],dtype = 'uintc')  ## unsigned int\n",
    "print(a)\n",
    "print(a.dtype)"
   ]
  },
  {
   "cell_type": "code",
   "execution_count": 9,
   "id": "13bdb7c2",
   "metadata": {},
   "outputs": [
    {
     "name": "stdout",
     "output_type": "stream",
     "text": [
      "[  0 255   2 253   4   5]\n",
      "uint8\n"
     ]
    }
   ],
   "source": [
    "import numpy as np\n",
    "a = np.array([0,-1,2,-3,4,5],dtype = 'uint8')\n",
    "print(a)\n",
    "print(a.dtype)"
   ]
  },
  {
   "cell_type": "code",
   "execution_count": 10,
   "id": "df7a3ace",
   "metadata": {},
   "outputs": [
    {
     "name": "stdout",
     "output_type": "stream",
     "text": [
      "[    0 65535     2 65533     4     5]\n",
      "uint16\n"
     ]
    }
   ],
   "source": [
    "import numpy as np\n",
    "a = np.array([0,-1,2,-3,4,5],dtype = 'uint16')\n",
    "print(a)\n",
    "print(a.dtype)"
   ]
  },
  {
   "cell_type": "code",
   "execution_count": 11,
   "id": "ea818930",
   "metadata": {},
   "outputs": [
    {
     "name": "stdout",
     "output_type": "stream",
     "text": [
      "[         0 4294967295          2 4294967293          4          5]\n",
      "uint32\n"
     ]
    }
   ],
   "source": [
    "import numpy as np\n",
    "a = np.array([0,-1,2,-3,4,5],dtype = 'uint32')\n",
    "print(a)\n",
    "print(a.dtype)"
   ]
  },
  {
   "cell_type": "code",
   "execution_count": 13,
   "id": "e427e01e",
   "metadata": {},
   "outputs": [
    {
     "name": "stdout",
     "output_type": "stream",
     "text": [
      "[                   0 18446744073709551615                    2\n",
      " 18446744073709551613                    4                    5]\n",
      "uint64\n"
     ]
    }
   ],
   "source": [
    "import numpy as np\n",
    "a = np.array([0,-1,2,-3,4,5],dtype = 'uint64')\n",
    "print(a)\n",
    "print(a.dtype)"
   ]
  },
  {
   "cell_type": "code",
   "execution_count": 14,
   "id": "9e2325f2",
   "metadata": {},
   "outputs": [
    {
     "name": "stdout",
     "output_type": "stream",
     "text": [
      "[18446744073709551615                    2                    3\n",
      "                    4                    5]\n",
      "uint64\n"
     ]
    }
   ],
   "source": [
    "import numpy as np\n",
    "a = np.array([-1,2,3,4,5],dtype = 'ulonglong')\n",
    "print(a)\n",
    "print(a.dtype)"
   ]
  },
  {
   "cell_type": "markdown",
   "id": "36d30b85",
   "metadata": {},
   "source": [
    "FLOAT DATATYPE"
   ]
  },
  {
   "cell_type": "code",
   "execution_count": 15,
   "id": "2694e0b9",
   "metadata": {},
   "outputs": [
    {
     "name": "stdout",
     "output_type": "stream",
     "text": [
      "[1.23 2.3  4.   4.5  5.  ]\n",
      "float64\n"
     ]
    }
   ],
   "source": [
    "# Creating array with float in numpy\n",
    "a = np.array([1.23,2.3,4,4.5,5])\n",
    "print(a)\n",
    "print(a.dtype)"
   ]
  },
  {
   "cell_type": "code",
   "execution_count": 16,
   "id": "fd774d45",
   "metadata": {},
   "outputs": [
    {
     "name": "stdout",
     "output_type": "stream",
     "text": [
      "[1. 2. 3. 4.]\n",
      "float32\n"
     ]
    }
   ],
   "source": [
    "import numpy as np\n",
    "a = np.array([1,2,3,4], dtype='f')\n",
    "print(a)\n",
    "print(a.dtype)"
   ]
  },
  {
   "cell_type": "code",
   "execution_count": 17,
   "id": "b0bf592c",
   "metadata": {},
   "outputs": [
    {
     "name": "stdout",
     "output_type": "stream",
     "text": [
      "[1. 2. 3. 4.]\n",
      "float16\n"
     ]
    }
   ],
   "source": [
    "import numpy as np\n",
    "a = np.array([1,2,3,4], dtype='half')\n",
    "print(a)\n",
    "print(a.dtype)"
   ]
  },
  {
   "cell_type": "code",
   "execution_count": 18,
   "id": "08e20286",
   "metadata": {},
   "outputs": [
    {
     "name": "stdout",
     "output_type": "stream",
     "text": [
      "[1. 2. 3. 4.]\n",
      "float32\n"
     ]
    }
   ],
   "source": [
    "import numpy as np\n",
    "a = np.array([1,2,3,4], dtype='single')\n",
    "print(a)\n",
    "print(a.dtype)"
   ]
  },
  {
   "cell_type": "code",
   "execution_count": 19,
   "id": "3222c4b1",
   "metadata": {},
   "outputs": [
    {
     "name": "stdout",
     "output_type": "stream",
     "text": [
      "[1. 2. 3. 4.]\n",
      "float64\n"
     ]
    }
   ],
   "source": [
    "import numpy as np\n",
    "a = np.array([1,2,3,4], dtype='double')\n",
    "print(a)\n",
    "print(a.dtype)"
   ]
  },
  {
   "cell_type": "code",
   "execution_count": 20,
   "id": "c6abaa7d",
   "metadata": {},
   "outputs": [
    {
     "name": "stdout",
     "output_type": "stream",
     "text": [
      "[1. 2. 3. 4.]\n",
      "float64\n"
     ]
    }
   ],
   "source": [
    "import numpy as np\n",
    "a = np.array([1,2,3,4], dtype='longdouble')\n",
    "print(a)\n",
    "print(a.dtype)"
   ]
  },
  {
   "cell_type": "markdown",
   "id": "f12319d5",
   "metadata": {},
   "source": [
    "COMPLEXFLOAT DATATYPE"
   ]
  },
  {
   "cell_type": "code",
   "execution_count": 21,
   "id": "5b8ac1bb",
   "metadata": {},
   "outputs": [
    {
     "name": "stdout",
     "output_type": "stream",
     "text": [
      "[1.23+1.j 2.3 +2.j 4.  +0.j 4.5 +0.j 5.  +4.j]\n",
      "complex128\n"
     ]
    }
   ],
   "source": [
    "# Creating array with complex float in numpy\n",
    "a = np.array([1.23+1j,2.3+2j,4,4.5,5+4j])\n",
    "print(a)\n",
    "print(a.dtype)"
   ]
  },
  {
   "cell_type": "code",
   "execution_count": 22,
   "id": "6c98892d",
   "metadata": {},
   "outputs": [
    {
     "name": "stdout",
     "output_type": "stream",
     "text": [
      "[1.+0.j 2.+0.j 3.+0.j 4.+0.j]\n",
      "complex64\n"
     ]
    }
   ],
   "source": [
    "import numpy as np\n",
    "a = np.array([1,2,3,4], dtype='csingle')\n",
    "print(a)\n",
    "print(a.dtype)"
   ]
  },
  {
   "cell_type": "code",
   "execution_count": 23,
   "id": "879699b5",
   "metadata": {},
   "outputs": [
    {
     "name": "stdout",
     "output_type": "stream",
     "text": [
      "[1.+0.j 2.+0.j 3.+0.j 4.+0.j]\n",
      "complex128\n"
     ]
    }
   ],
   "source": [
    "import numpy as np\n",
    "a = np.array([1,2,3,4], dtype='cdouble')\n",
    "print(a)\n",
    "print(a.dtype)"
   ]
  },
  {
   "cell_type": "code",
   "execution_count": 24,
   "id": "a82e6e25",
   "metadata": {},
   "outputs": [
    {
     "name": "stdout",
     "output_type": "stream",
     "text": [
      "[1.+0.j 2.+0.j 3.+0.j 4.+0.j]\n",
      "complex128\n"
     ]
    }
   ],
   "source": [
    "import numpy as np\n",
    "a = np.array([1,2,3,4], dtype='clongdouble')\n",
    "print(a)\n",
    "print(a.dtype)"
   ]
  },
  {
   "cell_type": "markdown",
   "id": "bc2a59c9",
   "metadata": {},
   "source": [
    "Timedelta DataType"
   ]
  },
  {
   "cell_type": "code",
   "execution_count": 25,
   "id": "c29eb336",
   "metadata": {},
   "outputs": [
    {
     "name": "stdout",
     "output_type": "stream",
     "text": [
      "12 months\n",
      "timedelta64[M]\n"
     ]
    }
   ],
   "source": [
    "# Creating array with Timedelta in numpy\n",
    "a = np.timedelta64(12, 'M')\n",
    "print(a)\n",
    "print(a.dtype)"
   ]
  },
  {
   "cell_type": "code",
   "execution_count": 26,
   "id": "9441273a",
   "metadata": {},
   "outputs": [
    {
     "name": "stdout",
     "output_type": "stream",
     "text": [
      "12 days\n",
      "timedelta64[D]\n"
     ]
    }
   ],
   "source": [
    "a = np.timedelta64(12, 'D')\n",
    "print(a)\n",
    "print(a.dtype)"
   ]
  },
  {
   "cell_type": "code",
   "execution_count": 27,
   "id": "5f4b034e",
   "metadata": {},
   "outputs": [
    {
     "name": "stdout",
     "output_type": "stream",
     "text": [
      "12 weeks\n",
      "timedelta64[W]\n"
     ]
    }
   ],
   "source": [
    "a = np.timedelta64(12, 'W')\n",
    "print(a)\n",
    "print(a.dtype)"
   ]
  },
  {
   "cell_type": "code",
   "execution_count": 28,
   "id": "080d4cc4",
   "metadata": {},
   "outputs": [
    {
     "name": "stdout",
     "output_type": "stream",
     "text": [
      "[1966]\n",
      "timedelta64\n"
     ]
    }
   ],
   "source": [
    "import numpy as np\n",
    "a = np.array([2001-12-23], dtype='m')\n",
    "print(a)\n",
    "print(a.dtype)"
   ]
  },
  {
   "cell_type": "markdown",
   "id": "1af75bd9",
   "metadata": {},
   "source": [
    "DATATIME DATATYPE "
   ]
  },
  {
   "cell_type": "code",
   "execution_count": 29,
   "id": "6cec9ecf",
   "metadata": {},
   "outputs": [
    {
     "name": "stdout",
     "output_type": "stream",
     "text": [
      "['2010-07-11' '2006-01-13']\n",
      "<U10\n"
     ]
    }
   ],
   "source": [
    "# Creating array with datetime in numpy\n",
    "a = np.array(['2010-07-11', '2006-01-13'])\n",
    "print(a)\n",
    "print(a.dtype)"
   ]
  },
  {
   "cell_type": "code",
   "execution_count": 30,
   "id": "fdf674c2",
   "metadata": {},
   "outputs": [
    {
     "name": "stdout",
     "output_type": "stream",
     "text": [
      "['2010-07-11' '2006-01-13' '2001-12-23']\n",
      "datetime64[D]\n"
     ]
    }
   ],
   "source": [
    "a = np.array(['2010-07-11', '2006-01-13','2001-12-23'],dtype='datetime64')\n",
    "print(a)\n",
    "print(a.dtype)"
   ]
  },
  {
   "cell_type": "code",
   "execution_count": 31,
   "id": "554c95a2",
   "metadata": {},
   "outputs": [
    {
     "name": "stdout",
     "output_type": "stream",
     "text": [
      "['2010-07-11' '2006-01-13' '2010-08-13']\n",
      "datetime64[D]\n"
     ]
    }
   ],
   "source": [
    "import numpy as np\n",
    "a = np.array(['2010-07-11', '2006-01-13', '2010-08-13'], dtype='M')\n",
    "print(a)\n",
    "print(a.dtype)"
   ]
  },
  {
   "cell_type": "markdown",
   "id": "85723c54",
   "metadata": {},
   "source": [
    "OBJECTIVE DATATYPE"
   ]
  },
  {
   "cell_type": "code",
   "execution_count": 33,
   "id": "123e6843",
   "metadata": {},
   "outputs": [
    {
     "name": "stdout",
     "output_type": "stream",
     "text": [
      "['RUTHIK' 2 3 4]\n",
      "object\n"
     ]
    }
   ],
   "source": [
    "# Creating array with Object in numpy\n",
    "\n",
    "import numpy as np\n",
    "a = np.array(['RUTHIK',2,3,4], dtype='O')\n",
    "print(a)\n",
    "print(a.dtype)"
   ]
  },
  {
   "cell_type": "markdown",
   "id": "3d850e2c",
   "metadata": {},
   "source": [
    "STRING DATETYPE"
   ]
  },
  {
   "cell_type": "code",
   "execution_count": 34,
   "id": "0731f9fe",
   "metadata": {},
   "outputs": [
    {
     "name": "stdout",
     "output_type": "stream",
     "text": [
      "[b'1' b'2' b'3' b'4']\n",
      "|S1\n"
     ]
    }
   ],
   "source": [
    "# Creating array with String in numpy\n",
    "\n",
    "import numpy as np\n",
    "a = np.array([1,2,3,4], dtype='S')\n",
    "print(a)\n",
    "print(a.dtype)"
   ]
  },
  {
   "cell_type": "code",
   "execution_count": 35,
   "id": "2d179ba0",
   "metadata": {},
   "outputs": [
    {
     "name": "stdout",
     "output_type": "stream",
     "text": [
      "['narsi' 'noushi' 'jaya' 'likki']\n",
      "<U6\n"
     ]
    }
   ],
   "source": [
    "a = np.array(['narsi', 'noushi', 'jaya', 'likki'])\n",
    "print(a)\n",
    "print(a.dtype)"
   ]
  },
  {
   "cell_type": "markdown",
   "id": "f1a809fc",
   "metadata": {},
   "source": [
    "UNICODE DATATAPYE"
   ]
  },
  {
   "cell_type": "code",
   "execution_count": 36,
   "id": "93c01224",
   "metadata": {},
   "outputs": [
    {
     "name": "stdout",
     "output_type": "stream",
     "text": [
      "['e' 'ģ' 'µF' '∂r']\n",
      "<U2\n"
     ]
    }
   ],
   "source": [
    "## creating array with unicode in array:\n",
    "a = np.array([u'\\u0065', u'\\u0123', u'\\265F', u'\\u2202r'])\n",
    "print(a)\n",
    "print(a.dtype)"
   ]
  },
  {
   "cell_type": "code",
   "execution_count": 37,
   "id": "48a0b2c6",
   "metadata": {},
   "outputs": [
    {
     "name": "stdout",
     "output_type": "stream",
     "text": [
      "['Δ' 'µE' 'µF' '∂r']\n",
      "<U2\n"
     ]
    }
   ],
   "source": [
    "import numpy as np\n",
    "a = np.array([u'\\u0394', u'\\265E', u'\\265F', u'\\u2202r'], dtype='U')\n",
    "print(a)\n",
    "print(a.dtype)"
   ]
  },
  {
   "cell_type": "markdown",
   "id": "64763438",
   "metadata": {},
   "source": [
    "VOID DATATYPE"
   ]
  },
  {
   "cell_type": "code",
   "execution_count": 38,
   "id": "35327854",
   "metadata": {},
   "outputs": [
    {
     "name": "stdout",
     "output_type": "stream",
     "text": [
      "[]\n",
      "|V8\n"
     ]
    }
   ],
   "source": [
    "## creating array with void in array:\n",
    "import numpy as np\n",
    "a = np.array([], dtype='V')\n",
    "print(a)\n",
    "print(a.dtype)"
   ]
  },
  {
   "cell_type": "code",
   "execution_count": null,
   "id": "3d2a27f6",
   "metadata": {},
   "outputs": [],
   "source": []
  }
 ],
 "metadata": {
  "kernelspec": {
   "display_name": "Python 3",
   "language": "python",
   "name": "python3"
  },
  "language_info": {
   "codemirror_mode": {
    "name": "ipython",
    "version": 3
   },
   "file_extension": ".py",
   "mimetype": "text/x-python",
   "name": "python",
   "nbconvert_exporter": "python",
   "pygments_lexer": "ipython3",
   "version": "3.8.8"
  }
 },
 "nbformat": 4,
 "nbformat_minor": 5
}
