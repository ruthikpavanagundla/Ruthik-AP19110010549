{
 "cells": [
  {
   "cell_type": "code",
   "execution_count": 1,
   "id": "8f96dc34",
   "metadata": {},
   "outputs": [],
   "source": [
    "import random\n",
    "class Mail():\n",
    "    def __init__(self):\n",
    "        self.s1 = random.randint(100,999)\n",
    "        print(\"The First 3-digit OTP by Mail is :\", self.s1)\n",
    "class Phone():\n",
    "    def __init__(self):\n",
    "        self.s2 = random.randint(100,999)\n",
    "        print(\"The Next 3-digit OTP by Phone is :\", self.s2)\n",
    "class Base(Mail,Phone):\n",
    "    def __init__(self):\n",
    "        Mail.__init__(self)\n",
    "        Phone.__init__(self)\n",
    "        print(\"The 6-digit OTP is : \",str(self.s1)+str(self.s2))"
   ]
  },
  {
   "cell_type": "code",
   "execution_count": 2,
   "id": "01379838",
   "metadata": {},
   "outputs": [
    {
     "name": "stdout",
     "output_type": "stream",
     "text": [
      "The First 3-digit OTP by Mail is : 732\n",
      "The Next 3-digit OTP by Phone is : 411\n",
      "The 6-digit OTP is :  732411\n"
     ]
    }
   ],
   "source": [
    "obj = Base()"
   ]
  },
  {
   "cell_type": "code",
   "execution_count": 3,
   "id": "9a105fa2",
   "metadata": {},
   "outputs": [
    {
     "name": "stdout",
     "output_type": "stream",
     "text": [
      "The First 3-digit OTP by Mail is : 392\n",
      "The Next 3-digit OTP by Phone is : 559\n",
      "The 6-digit OTP is :  392559\n"
     ]
    }
   ],
   "source": [
    "obj = Base()"
   ]
  },
  {
   "cell_type": "code",
   "execution_count": null,
   "id": "fc146a29",
   "metadata": {},
   "outputs": [],
   "source": []
  }
 ],
 "metadata": {
  "kernelspec": {
   "display_name": "Python 3",
   "language": "python",
   "name": "python3"
  },
  "language_info": {
   "codemirror_mode": {
    "name": "ipython",
    "version": 3
   },
   "file_extension": ".py",
   "mimetype": "text/x-python",
   "name": "python",
   "nbconvert_exporter": "python",
   "pygments_lexer": "ipython3",
   "version": "3.8.8"
  }
 },
 "nbformat": 4,
 "nbformat_minor": 5
}
