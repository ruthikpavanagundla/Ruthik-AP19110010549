{
 "cells": [
  {
   "cell_type": "code",
   "execution_count": 1,
   "id": "ed57cfa1",
   "metadata": {},
   "outputs": [
    {
     "name": "stdout",
     "output_type": "stream",
     "text": [
      "Enter starting year :2001\n",
      "Enter ending year :2020\n",
      "The leap years within the range are :\n",
      "2004 2008 2012 2016 2020 "
     ]
    }
   ],
   "source": [
    "## Create a function for finding the leap years within the given range\n",
    "def leap(s,e):\n",
    "    print(\"The leap years within the range are :\")\n",
    "    for yr in range(s,e+1):\n",
    "        if (yr % 4 == 0 and yr % 100 != 0) or (yr % 400 == 0):\n",
    "            print(yr,end =\" \")\n",
    "s = int(input(\"Enter starting year :\"))\n",
    "e = int(input(\"Enter ending year :\"))\n",
    "leap(s,e)"
   ]
  },
  {
   "cell_type": "code",
   "execution_count": 3,
   "id": "19ae6ba0",
   "metadata": {},
   "outputs": [
    {
     "name": "stdout",
     "output_type": "stream",
     "text": [
      "Enter starting range :1\n",
      "Enter ending range :160\n",
      "The amstrong numbers within the range are :\n",
      "1\n",
      "64\n",
      "125\n",
      "153\n"
     ]
    }
   ],
   "source": [
    "## Create a function for getting the armstrong numbers within the given range\n",
    "def armstrong(s,e):\n",
    "    print(\"The amstrong numbers within the range are :\")\n",
    "    for i in range(s,e+1):\n",
    "        a = 0\n",
    "        t = i\n",
    "        while t>0:\n",
    "            a = a + (t%10) **3\n",
    "            t = t//10\n",
    "            if i == a:\n",
    "                print(i)\n",
    "                   \n",
    "s = int(input(\"Enter starting range :\"))\n",
    "e = int(input(\"Enter ending range :\"))\n",
    "armstrong(s,e)"
   ]
  },
  {
   "cell_type": "code",
   "execution_count": 4,
   "id": "5d9f9c90",
   "metadata": {},
   "outputs": [
    {
     "name": "stdout",
     "output_type": "stream",
     "text": [
      "Enter starting range :1\n",
      "Enter ending range :100\n",
      "1 2 3 5 7 11 13 17 19 23 29 31 37 41 43 47 53 59 61 67 71 73 79 83 89 97 "
     ]
    }
   ],
   "source": [
    "## Create a function for getting the prime numbers within the range\n",
    "## Method-1\n",
    "def prime(s,e):\n",
    "    for n in range(s,e+1):\n",
    "        if all(n%i!=0 for i in range(2,n)):\n",
    "            print(n,end=\" \")\n",
    "s = int(input(\"Enter starting range :\"))\n",
    "e = int(input(\"Enter ending range :\"))\n",
    "prime(s,e)"
   ]
  },
  {
   "cell_type": "code",
   "execution_count": 5,
   "id": "3c2a9129",
   "metadata": {},
   "outputs": [
    {
     "name": "stdout",
     "output_type": "stream",
     "text": [
      "Enter your string: 1\n"
     ]
    },
    {
     "data": {
      "text/plain": [
       "{'1': 1}"
      ]
     },
     "execution_count": 5,
     "metadata": {},
     "output_type": "execute_result"
    }
   ],
   "source": [
    "## Create a function for finding the count of elements in a string.\n",
    "def count():\n",
    "    a=input(\"Enter your string: \")\n",
    "    c = a.lower()\n",
    "    b={}\n",
    "    for i in c:\n",
    "        if i in b:\n",
    "            b[i]=b[i]+1\n",
    "        else:\n",
    "            b[i]=1\n",
    "    return b\n",
    "            \n",
    "count()"
   ]
  },
  {
   "cell_type": "code",
   "execution_count": null,
   "id": "b4c3c88c",
   "metadata": {},
   "outputs": [],
   "source": []
  }
 ],
 "metadata": {
  "kernelspec": {
   "display_name": "Python 3",
   "language": "python",
   "name": "python3"
  },
  "language_info": {
   "codemirror_mode": {
    "name": "ipython",
    "version": 3
   },
   "file_extension": ".py",
   "mimetype": "text/x-python",
   "name": "python",
   "nbconvert_exporter": "python",
   "pygments_lexer": "ipython3",
   "version": "3.8.8"
  }
 },
 "nbformat": 4,
 "nbformat_minor": 5
}
