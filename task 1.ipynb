{
 "cells": [
  {
   "cell_type": "code",
   "execution_count": 1,
   "id": "46e0f5ec",
   "metadata": {},
   "outputs": [
    {
     "name": "stdout",
     "output_type": "stream",
     "text": [
      "Enter your age to ckeck wheather you are eligible or not!!!23\n",
      "--->You can cast your vote!!<---\n"
     ]
    }
   ],
   "source": [
    "#eligible for vote or not\n",
    "age=int(input(\"Enter your age to ckeck wheather you are eligible or not!!!\"))\n",
    "if(age<18):\n",
    "    print(\"----->Sorry you are not eligible to Cast your vote<-----\")\n",
    "else:\n",
    "    print(\"--->You can cast your vote!!<---\")\n",
    "    "
   ]
  },
  {
   "cell_type": "code",
   "execution_count": 2,
   "id": "4c9568f6",
   "metadata": {},
   "outputs": [
    {
     "name": "stdout",
     "output_type": "stream",
     "text": [
      "Enter the to check wheather the number is postive or not-45\n",
      "The given number is negative\n"
     ]
    }
   ],
   "source": [
    "#Number is Postive or not\n",
    "num=eval(input(\"Enter the to check wheather the number is postive or not\"))\n",
    "if(num>=0):\n",
    "    print(\"The given number is positive\")\n",
    "else:\n",
    "    print(\"The given number is negative\")"
   ]
  },
  {
   "cell_type": "code",
   "execution_count": 3,
   "id": "0dffda6f",
   "metadata": {},
   "outputs": [
    {
     "name": "stdout",
     "output_type": "stream",
     "text": [
      "Enter the to check wheather the number is postive or not45\n",
      "The given number is odd\n"
     ]
    }
   ],
   "source": [
    "#check the given number is even or odd and check the given number is divisible or not\n",
    "num=eval(input(\"Enter the to check wheather the number is postive or not\"))\n",
    "if(num%2==0):\n",
    "    print(\"The given number is even\")\n",
    "    if(num%4==0):\n",
    "        print(\"the number is also divisible by four\")\n",
    "else:\n",
    "    print(\"The given number is odd\")"
   ]
  },
  {
   "cell_type": "code",
   "execution_count": 4,
   "id": "f64321f4",
   "metadata": {},
   "outputs": [
    {
     "name": "stdout",
     "output_type": "stream",
     "text": [
      "Enter the marks of subject 1 out of hundred69\n",
      "Enter the marks of subject 2 out of hundred90\n",
      "Enter the marks of subject 3 out of hundred45\n",
      "Enter the marks of subject 4 out of hundred20\n",
      "The percentage you got is: 56.0\n",
      "Passed\n"
     ]
    }
   ],
   "source": [
    "#percentage check for a student and say distinction,pass or fail\n",
    "marks1=eval(input(\"Enter the marks of subject 1 out of hundred\"))\n",
    "marks2=eval(input(\"Enter the marks of subject 2 out of hundred\"))\n",
    "marks3=eval(input(\"Enter the marks of subject 3 out of hundred\"))\n",
    "marks4=eval(input(\"Enter the marks of subject 4 out of hundred\"))\n",
    "percentage=(marks1+marks2+marks3+marks4)/4\n",
    "print(\"The percentage you got is:\",percentage)\n",
    "if(percentage>=90):\n",
    "    print(\"distinction pass\")\n",
    "elif(percentage>=50):\n",
    "    print(\"Passed\")\n",
    "else:\n",
    "    print(\"Fail\")"
   ]
  },
  {
   "cell_type": "code",
   "execution_count": 5,
   "id": "a632e876",
   "metadata": {},
   "outputs": [
    {
     "name": "stdout",
     "output_type": "stream",
     "text": [
      "Enter the year to check!!!2001\n",
      "Not a leap year\n"
     ]
    }
   ],
   "source": [
    "#leap year or not\n",
    "year=int(input(\"Enter the year to check!!!\"))\n",
    "if (year % 4) == 0:\n",
    "   if (year % 100) == 0:\n",
    "       if (year % 400) == 0:\n",
    "           print(\"Given year is a leap year\")\n",
    "       else:\n",
    "           print(\"Not a leap year\")\n",
    "   else:\n",
    "       print(\"Given year is aleap year\")\n",
    "else:\n",
    "   print(\"Not a leap year\")"
   ]
  },
  {
   "cell_type": "code",
   "execution_count": null,
   "id": "87e2ee3b",
   "metadata": {},
   "outputs": [],
   "source": []
  }
 ],
 "metadata": {
  "kernelspec": {
   "display_name": "Python 3",
   "language": "python",
   "name": "python3"
  },
  "language_info": {
   "codemirror_mode": {
    "name": "ipython",
    "version": 3
   },
   "file_extension": ".py",
   "mimetype": "text/x-python",
   "name": "python",
   "nbconvert_exporter": "python",
   "pygments_lexer": "ipython3",
   "version": "3.8.8"
  }
 },
 "nbformat": 4,
 "nbformat_minor": 5
}
